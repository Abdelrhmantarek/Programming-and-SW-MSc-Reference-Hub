{
  "nbformat": 4,
  "nbformat_minor": 0,
  "metadata": {
    "colab": {
      "provenance": []
    },
    "kernelspec": {
      "name": "python3",
      "display_name": "Python 3"
    },
    "language_info": {
      "name": "python"
    }
  },
  "cells": [
    {
      "cell_type": "markdown",
      "source": [
        "\n",
        "\n",
        "# PANDAS 🐼\n",
        "\n"
      ],
      "metadata": {
        "id": "z0X0QBULWNGd"
      }
    },
    {
      "cell_type": "code",
      "source": [
        "import pandas as pd"
      ],
      "metadata": {
        "id": "1BkUe2M7WVMn"
      },
      "execution_count": null,
      "outputs": []
    },
    {
      "cell_type": "code",
      "source": [
        "## Origin Dataset: https://www.kaggle.com/c/titanic/data\n",
        "## Tutorial: https://www.kaggle.com/code/alexisbcook/titanic-tutorial\n",
        "## ============================================================================="
      ],
      "metadata": {
        "id": "hI4asjKijwIx"
      },
      "execution_count": null,
      "outputs": []
    },
    {
      "cell_type": "code",
      "source": [
        "# Load Titanic dataset directly from GitHub\n",
        "data_url = \"https://raw.githubusercontent.com/datasciencedojo/datasets/master/titanic.csv\"\n",
        "df = pd.read_csv(data_url)\n",
        "\n",
        "# Display the first few rows\n",
        "print(\"Initial Data:\")\n",
        "print(df.head())"
      ],
      "metadata": {
        "colab": {
          "base_uri": "https://localhost:8080/"
        },
        "id": "dP-AQ0q2WY4u",
        "outputId": "894cb852-0ae8-4b79-f678-53bf5b9888f6"
      },
      "execution_count": null,
      "outputs": [
        {
          "output_type": "stream",
          "name": "stdout",
          "text": [
            "Initial Data:\n",
            "   PassengerId  Survived  Pclass  \\\n",
            "0            1         0       3   \n",
            "1            2         1       1   \n",
            "2            3         1       3   \n",
            "3            4         1       1   \n",
            "4            5         0       3   \n",
            "\n",
            "                                                Name     Sex   Age  SibSp  \\\n",
            "0                            Braund, Mr. Owen Harris    male  22.0      1   \n",
            "1  Cumings, Mrs. John Bradley (Florence Briggs Th...  female  38.0      1   \n",
            "2                             Heikkinen, Miss. Laina  female  26.0      0   \n",
            "3       Futrelle, Mrs. Jacques Heath (Lily May Peel)  female  35.0      1   \n",
            "4                           Allen, Mr. William Henry    male  35.0      0   \n",
            "\n",
            "   Parch            Ticket     Fare Cabin Embarked  \n",
            "0      0         A/5 21171   7.2500   NaN        S  \n",
            "1      0          PC 17599  71.2833   C85        C  \n",
            "2      0  STON/O2. 3101282   7.9250   NaN        S  \n",
            "3      0            113803  53.1000  C123        S  \n",
            "4      0            373450   8.0500   NaN        S  \n"
          ]
        }
      ]
    },
    {
      "cell_type": "code",
      "source": [
        "# -----------------------------\n",
        "# 1. Data Cleaning\n",
        "# -----------------------------\n",
        "# (Handling missing values, duplicates, and inconsistent data)\n",
        "print(\"Dataset Info:\\n\")\n",
        "df.info()\n",
        "print(\"\\nMissing Values:\\n\", df.isnull().sum())"
      ],
      "metadata": {
        "colab": {
          "base_uri": "https://localhost:8080/"
        },
        "id": "rz71YzS0nih0",
        "outputId": "dcadec21-c9ac-4e0d-ebf5-eddd769e3cb1"
      },
      "execution_count": null,
      "outputs": [
        {
          "output_type": "stream",
          "name": "stdout",
          "text": [
            "Dataset Info:\n",
            "\n",
            "<class 'pandas.core.frame.DataFrame'>\n",
            "RangeIndex: 891 entries, 0 to 890\n",
            "Data columns (total 12 columns):\n",
            " #   Column       Non-Null Count  Dtype  \n",
            "---  ------       --------------  -----  \n",
            " 0   PassengerId  891 non-null    int64  \n",
            " 1   Survived     891 non-null    int64  \n",
            " 2   Pclass       891 non-null    int64  \n",
            " 3   Name         891 non-null    object \n",
            " 4   Sex          891 non-null    object \n",
            " 5   Age          714 non-null    float64\n",
            " 6   SibSp        891 non-null    int64  \n",
            " 7   Parch        891 non-null    int64  \n",
            " 8   Ticket       891 non-null    object \n",
            " 9   Fare         891 non-null    float64\n",
            " 10  Cabin        204 non-null    object \n",
            " 11  Embarked     889 non-null    object \n",
            "dtypes: float64(2), int64(5), object(5)\n",
            "memory usage: 83.7+ KB\n",
            "\n",
            "Missing Values:\n",
            " PassengerId      0\n",
            "Survived         0\n",
            "Pclass           0\n",
            "Name             0\n",
            "Sex              0\n",
            "Age            177\n",
            "SibSp            0\n",
            "Parch            0\n",
            "Ticket           0\n",
            "Fare             0\n",
            "Cabin          687\n",
            "Embarked         2\n",
            "dtype: int64\n"
          ]
        }
      ]
    },
    {
      "cell_type": "code",
      "source": [
        "# Filling missing values in 'Age' with median\n",
        "df['Age'] = df['Age'].fillna(df['Age'].median())\n",
        "\n",
        "# Filling missing values in 'Embarked' with the most common value\n",
        "df['Embarked'] = df['Embarked'].fillna(df['Embarked'].mode()[0])\n",
        "\n",
        "# Dropping 'Cabin' due to too many missing values\n",
        "df.drop(columns=['Cabin'], inplace=True)\n",
        "\n",
        "# Handling Duplicates\n",
        "df.drop_duplicates(inplace=True)"
      ],
      "metadata": {
        "id": "wEAmlXRGns9h"
      },
      "execution_count": null,
      "outputs": []
    },
    {
      "cell_type": "code",
      "source": [
        "# -----------------------------\n",
        "# 2. Data Transformation\n",
        "# -----------------------------\n",
        "## (Feature Engineering and Encoding)\n",
        "# Creating a new feature 'FamilySize'\n",
        "df['FamilySize'] = df['SibSp'] + df['Parch'] + 1\n",
        "\n",
        "# Binning 'Age' into categories\n",
        "df['AgeGroup'] = pd.cut(df['Age'], bins=[0, 12, 18, 35, 60, 100], labels=['Child', 'Teen', 'Young Adult', 'Adult', 'Senior'])\n",
        "\n",
        "# Encoding categorical variables\n",
        "df = pd.get_dummies(df, columns=['Sex', 'Embarked'], drop_first=True)"
      ],
      "metadata": {
        "id": "4Npv6X5boqt0"
      },
      "execution_count": null,
      "outputs": []
    },
    {
      "cell_type": "code",
      "source": [
        "# -----------------------------\n",
        "# 3. Data Integration\n",
        "# -----------------------------\n",
        "# (Merging and Joining)\n",
        "df_extra = df[['PassengerId', 'Fare']].copy()\n",
        "df_extra['DiscountedFare'] = df_extra['Fare'] * 0.9\n",
        "df = df.merge(df_extra[['PassengerId', 'DiscountedFare']], on='PassengerId', how='left')"
      ],
      "metadata": {
        "id": "vUQFOTs3o2w-"
      },
      "execution_count": null,
      "outputs": []
    },
    {
      "cell_type": "code",
      "source": [
        "# -----------------------------\n",
        "# 4. Data Reduction\n",
        "# -----------------------------\n",
        "# (Aggregation and Filtering)\n",
        "# Aggregating survival rate by class\n",
        "survival_rate = df.groupby('Pclass')['Survived'].mean()\n",
        "print(\"\\nSurvival Rate by Class:\\n\", survival_rate)"
      ],
      "metadata": {
        "colab": {
          "base_uri": "https://localhost:8080/"
        },
        "id": "JzFqb0F0o5YQ",
        "outputId": "8af5ad05-0585-42d3-dadb-959fc9498e80"
      },
      "execution_count": null,
      "outputs": [
        {
          "output_type": "stream",
          "name": "stdout",
          "text": [
            "\n",
            "Survival Rate by Class:\n",
            " Pclass\n",
            "1    0.629630\n",
            "2    0.472826\n",
            "3    0.242363\n",
            "Name: Survived, dtype: float64\n"
          ]
        }
      ]
    },
    {
      "cell_type": "code",
      "source": [
        "# Selecting high fare passengers\n",
        "df_reduced = df[df['Fare'] > df['Fare'].quantile(0.75)].sort_values(by='Fare', ascending=False)\n",
        "display(df_reduced.head())\n",
        "\n",
        "# Pivot Table Example\n",
        "pivot_table = df.pivot_table(index='Pclass', values='Fare', aggfunc=['mean', 'median'])\n",
        "print(\"\\nFare Statistics by Class:\\n\", pivot_table)"
      ],
      "metadata": {
        "colab": {
          "base_uri": "https://localhost:8080/",
          "height": 352
        },
        "id": "50UzQutCpy_Q",
        "outputId": "ab593b45-a286-44aa-8352-faf5127a02b5"
      },
      "execution_count": null,
      "outputs": [
        {
          "output_type": "display_data",
          "data": {
            "text/plain": [
              "     PassengerId  Survived  Pclass                                Name   Age  \\\n",
              "258          259         1       1                    Ward, Miss. Anna  35.0   \n",
              "737          738         1       1              Lesurer, Mr. Gustave J  35.0   \n",
              "679          680         1       1  Cardeza, Mr. Thomas Drake Martinez  36.0   \n",
              "341          342         1       1      Fortune, Miss. Alice Elizabeth  24.0   \n",
              "88            89         1       1          Fortune, Miss. Mabel Helen  23.0   \n",
              "\n",
              "     SibSp  Parch    Ticket      Fare  FamilySize     AgeGroup  Sex_male  \\\n",
              "258      0      0  PC 17755  512.3292           1  Young Adult     False   \n",
              "737      0      0  PC 17755  512.3292           1  Young Adult      True   \n",
              "679      0      1  PC 17755  512.3292           2        Adult      True   \n",
              "341      3      2     19950  263.0000           6  Young Adult     False   \n",
              "88       3      2     19950  263.0000           6  Young Adult     False   \n",
              "\n",
              "     Embarked_Q  Embarked_S  DiscountedFare  \n",
              "258       False       False       461.09628  \n",
              "737       False       False       461.09628  \n",
              "679       False       False       461.09628  \n",
              "341       False        True       236.70000  \n",
              "88        False        True       236.70000  "
            ],
            "text/html": [
              "\n",
              "  <div id=\"df-fef930d8-1ed7-4aad-80cf-5f5508770e7f\" class=\"colab-df-container\">\n",
              "    <div>\n",
              "<style scoped>\n",
              "    .dataframe tbody tr th:only-of-type {\n",
              "        vertical-align: middle;\n",
              "    }\n",
              "\n",
              "    .dataframe tbody tr th {\n",
              "        vertical-align: top;\n",
              "    }\n",
              "\n",
              "    .dataframe thead th {\n",
              "        text-align: right;\n",
              "    }\n",
              "</style>\n",
              "<table border=\"1\" class=\"dataframe\">\n",
              "  <thead>\n",
              "    <tr style=\"text-align: right;\">\n",
              "      <th></th>\n",
              "      <th>PassengerId</th>\n",
              "      <th>Survived</th>\n",
              "      <th>Pclass</th>\n",
              "      <th>Name</th>\n",
              "      <th>Age</th>\n",
              "      <th>SibSp</th>\n",
              "      <th>Parch</th>\n",
              "      <th>Ticket</th>\n",
              "      <th>Fare</th>\n",
              "      <th>FamilySize</th>\n",
              "      <th>AgeGroup</th>\n",
              "      <th>Sex_male</th>\n",
              "      <th>Embarked_Q</th>\n",
              "      <th>Embarked_S</th>\n",
              "      <th>DiscountedFare</th>\n",
              "    </tr>\n",
              "  </thead>\n",
              "  <tbody>\n",
              "    <tr>\n",
              "      <th>258</th>\n",
              "      <td>259</td>\n",
              "      <td>1</td>\n",
              "      <td>1</td>\n",
              "      <td>Ward, Miss. Anna</td>\n",
              "      <td>35.0</td>\n",
              "      <td>0</td>\n",
              "      <td>0</td>\n",
              "      <td>PC 17755</td>\n",
              "      <td>512.3292</td>\n",
              "      <td>1</td>\n",
              "      <td>Young Adult</td>\n",
              "      <td>False</td>\n",
              "      <td>False</td>\n",
              "      <td>False</td>\n",
              "      <td>461.09628</td>\n",
              "    </tr>\n",
              "    <tr>\n",
              "      <th>737</th>\n",
              "      <td>738</td>\n",
              "      <td>1</td>\n",
              "      <td>1</td>\n",
              "      <td>Lesurer, Mr. Gustave J</td>\n",
              "      <td>35.0</td>\n",
              "      <td>0</td>\n",
              "      <td>0</td>\n",
              "      <td>PC 17755</td>\n",
              "      <td>512.3292</td>\n",
              "      <td>1</td>\n",
              "      <td>Young Adult</td>\n",
              "      <td>True</td>\n",
              "      <td>False</td>\n",
              "      <td>False</td>\n",
              "      <td>461.09628</td>\n",
              "    </tr>\n",
              "    <tr>\n",
              "      <th>679</th>\n",
              "      <td>680</td>\n",
              "      <td>1</td>\n",
              "      <td>1</td>\n",
              "      <td>Cardeza, Mr. Thomas Drake Martinez</td>\n",
              "      <td>36.0</td>\n",
              "      <td>0</td>\n",
              "      <td>1</td>\n",
              "      <td>PC 17755</td>\n",
              "      <td>512.3292</td>\n",
              "      <td>2</td>\n",
              "      <td>Adult</td>\n",
              "      <td>True</td>\n",
              "      <td>False</td>\n",
              "      <td>False</td>\n",
              "      <td>461.09628</td>\n",
              "    </tr>\n",
              "    <tr>\n",
              "      <th>341</th>\n",
              "      <td>342</td>\n",
              "      <td>1</td>\n",
              "      <td>1</td>\n",
              "      <td>Fortune, Miss. Alice Elizabeth</td>\n",
              "      <td>24.0</td>\n",
              "      <td>3</td>\n",
              "      <td>2</td>\n",
              "      <td>19950</td>\n",
              "      <td>263.0000</td>\n",
              "      <td>6</td>\n",
              "      <td>Young Adult</td>\n",
              "      <td>False</td>\n",
              "      <td>False</td>\n",
              "      <td>True</td>\n",
              "      <td>236.70000</td>\n",
              "    </tr>\n",
              "    <tr>\n",
              "      <th>88</th>\n",
              "      <td>89</td>\n",
              "      <td>1</td>\n",
              "      <td>1</td>\n",
              "      <td>Fortune, Miss. Mabel Helen</td>\n",
              "      <td>23.0</td>\n",
              "      <td>3</td>\n",
              "      <td>2</td>\n",
              "      <td>19950</td>\n",
              "      <td>263.0000</td>\n",
              "      <td>6</td>\n",
              "      <td>Young Adult</td>\n",
              "      <td>False</td>\n",
              "      <td>False</td>\n",
              "      <td>True</td>\n",
              "      <td>236.70000</td>\n",
              "    </tr>\n",
              "  </tbody>\n",
              "</table>\n",
              "</div>\n",
              "    <div class=\"colab-df-buttons\">\n",
              "\n",
              "  <div class=\"colab-df-container\">\n",
              "    <button class=\"colab-df-convert\" onclick=\"convertToInteractive('df-fef930d8-1ed7-4aad-80cf-5f5508770e7f')\"\n",
              "            title=\"Convert this dataframe to an interactive table.\"\n",
              "            style=\"display:none;\">\n",
              "\n",
              "  <svg xmlns=\"http://www.w3.org/2000/svg\" height=\"24px\" viewBox=\"0 -960 960 960\">\n",
              "    <path d=\"M120-120v-720h720v720H120Zm60-500h600v-160H180v160Zm220 220h160v-160H400v160Zm0 220h160v-160H400v160ZM180-400h160v-160H180v160Zm440 0h160v-160H620v160ZM180-180h160v-160H180v160Zm440 0h160v-160H620v160Z\"/>\n",
              "  </svg>\n",
              "    </button>\n",
              "\n",
              "  <style>\n",
              "    .colab-df-container {\n",
              "      display:flex;\n",
              "      gap: 12px;\n",
              "    }\n",
              "\n",
              "    .colab-df-convert {\n",
              "      background-color: #E8F0FE;\n",
              "      border: none;\n",
              "      border-radius: 50%;\n",
              "      cursor: pointer;\n",
              "      display: none;\n",
              "      fill: #1967D2;\n",
              "      height: 32px;\n",
              "      padding: 0 0 0 0;\n",
              "      width: 32px;\n",
              "    }\n",
              "\n",
              "    .colab-df-convert:hover {\n",
              "      background-color: #E2EBFA;\n",
              "      box-shadow: 0px 1px 2px rgba(60, 64, 67, 0.3), 0px 1px 3px 1px rgba(60, 64, 67, 0.15);\n",
              "      fill: #174EA6;\n",
              "    }\n",
              "\n",
              "    .colab-df-buttons div {\n",
              "      margin-bottom: 4px;\n",
              "    }\n",
              "\n",
              "    [theme=dark] .colab-df-convert {\n",
              "      background-color: #3B4455;\n",
              "      fill: #D2E3FC;\n",
              "    }\n",
              "\n",
              "    [theme=dark] .colab-df-convert:hover {\n",
              "      background-color: #434B5C;\n",
              "      box-shadow: 0px 1px 3px 1px rgba(0, 0, 0, 0.15);\n",
              "      filter: drop-shadow(0px 1px 2px rgba(0, 0, 0, 0.3));\n",
              "      fill: #FFFFFF;\n",
              "    }\n",
              "  </style>\n",
              "\n",
              "    <script>\n",
              "      const buttonEl =\n",
              "        document.querySelector('#df-fef930d8-1ed7-4aad-80cf-5f5508770e7f button.colab-df-convert');\n",
              "      buttonEl.style.display =\n",
              "        google.colab.kernel.accessAllowed ? 'block' : 'none';\n",
              "\n",
              "      async function convertToInteractive(key) {\n",
              "        const element = document.querySelector('#df-fef930d8-1ed7-4aad-80cf-5f5508770e7f');\n",
              "        const dataTable =\n",
              "          await google.colab.kernel.invokeFunction('convertToInteractive',\n",
              "                                                    [key], {});\n",
              "        if (!dataTable) return;\n",
              "\n",
              "        const docLinkHtml = 'Like what you see? Visit the ' +\n",
              "          '<a target=\"_blank\" href=https://colab.research.google.com/notebooks/data_table.ipynb>data table notebook</a>'\n",
              "          + ' to learn more about interactive tables.';\n",
              "        element.innerHTML = '';\n",
              "        dataTable['output_type'] = 'display_data';\n",
              "        await google.colab.output.renderOutput(dataTable, element);\n",
              "        const docLink = document.createElement('div');\n",
              "        docLink.innerHTML = docLinkHtml;\n",
              "        element.appendChild(docLink);\n",
              "      }\n",
              "    </script>\n",
              "  </div>\n",
              "\n",
              "\n",
              "<div id=\"df-bb610287-e895-4932-ac6c-8f6abd60d8ee\">\n",
              "  <button class=\"colab-df-quickchart\" onclick=\"quickchart('df-bb610287-e895-4932-ac6c-8f6abd60d8ee')\"\n",
              "            title=\"Suggest charts\"\n",
              "            style=\"display:none;\">\n",
              "\n",
              "<svg xmlns=\"http://www.w3.org/2000/svg\" height=\"24px\"viewBox=\"0 0 24 24\"\n",
              "     width=\"24px\">\n",
              "    <g>\n",
              "        <path d=\"M19 3H5c-1.1 0-2 .9-2 2v14c0 1.1.9 2 2 2h14c1.1 0 2-.9 2-2V5c0-1.1-.9-2-2-2zM9 17H7v-7h2v7zm4 0h-2V7h2v10zm4 0h-2v-4h2v4z\"/>\n",
              "    </g>\n",
              "</svg>\n",
              "  </button>\n",
              "\n",
              "<style>\n",
              "  .colab-df-quickchart {\n",
              "      --bg-color: #E8F0FE;\n",
              "      --fill-color: #1967D2;\n",
              "      --hover-bg-color: #E2EBFA;\n",
              "      --hover-fill-color: #174EA6;\n",
              "      --disabled-fill-color: #AAA;\n",
              "      --disabled-bg-color: #DDD;\n",
              "  }\n",
              "\n",
              "  [theme=dark] .colab-df-quickchart {\n",
              "      --bg-color: #3B4455;\n",
              "      --fill-color: #D2E3FC;\n",
              "      --hover-bg-color: #434B5C;\n",
              "      --hover-fill-color: #FFFFFF;\n",
              "      --disabled-bg-color: #3B4455;\n",
              "      --disabled-fill-color: #666;\n",
              "  }\n",
              "\n",
              "  .colab-df-quickchart {\n",
              "    background-color: var(--bg-color);\n",
              "    border: none;\n",
              "    border-radius: 50%;\n",
              "    cursor: pointer;\n",
              "    display: none;\n",
              "    fill: var(--fill-color);\n",
              "    height: 32px;\n",
              "    padding: 0;\n",
              "    width: 32px;\n",
              "  }\n",
              "\n",
              "  .colab-df-quickchart:hover {\n",
              "    background-color: var(--hover-bg-color);\n",
              "    box-shadow: 0 1px 2px rgba(60, 64, 67, 0.3), 0 1px 3px 1px rgba(60, 64, 67, 0.15);\n",
              "    fill: var(--button-hover-fill-color);\n",
              "  }\n",
              "\n",
              "  .colab-df-quickchart-complete:disabled,\n",
              "  .colab-df-quickchart-complete:disabled:hover {\n",
              "    background-color: var(--disabled-bg-color);\n",
              "    fill: var(--disabled-fill-color);\n",
              "    box-shadow: none;\n",
              "  }\n",
              "\n",
              "  .colab-df-spinner {\n",
              "    border: 2px solid var(--fill-color);\n",
              "    border-color: transparent;\n",
              "    border-bottom-color: var(--fill-color);\n",
              "    animation:\n",
              "      spin 1s steps(1) infinite;\n",
              "  }\n",
              "\n",
              "  @keyframes spin {\n",
              "    0% {\n",
              "      border-color: transparent;\n",
              "      border-bottom-color: var(--fill-color);\n",
              "      border-left-color: var(--fill-color);\n",
              "    }\n",
              "    20% {\n",
              "      border-color: transparent;\n",
              "      border-left-color: var(--fill-color);\n",
              "      border-top-color: var(--fill-color);\n",
              "    }\n",
              "    30% {\n",
              "      border-color: transparent;\n",
              "      border-left-color: var(--fill-color);\n",
              "      border-top-color: var(--fill-color);\n",
              "      border-right-color: var(--fill-color);\n",
              "    }\n",
              "    40% {\n",
              "      border-color: transparent;\n",
              "      border-right-color: var(--fill-color);\n",
              "      border-top-color: var(--fill-color);\n",
              "    }\n",
              "    60% {\n",
              "      border-color: transparent;\n",
              "      border-right-color: var(--fill-color);\n",
              "    }\n",
              "    80% {\n",
              "      border-color: transparent;\n",
              "      border-right-color: var(--fill-color);\n",
              "      border-bottom-color: var(--fill-color);\n",
              "    }\n",
              "    90% {\n",
              "      border-color: transparent;\n",
              "      border-bottom-color: var(--fill-color);\n",
              "    }\n",
              "  }\n",
              "</style>\n",
              "\n",
              "  <script>\n",
              "    async function quickchart(key) {\n",
              "      const quickchartButtonEl =\n",
              "        document.querySelector('#' + key + ' button');\n",
              "      quickchartButtonEl.disabled = true;  // To prevent multiple clicks.\n",
              "      quickchartButtonEl.classList.add('colab-df-spinner');\n",
              "      try {\n",
              "        const charts = await google.colab.kernel.invokeFunction(\n",
              "            'suggestCharts', [key], {});\n",
              "      } catch (error) {\n",
              "        console.error('Error during call to suggestCharts:', error);\n",
              "      }\n",
              "      quickchartButtonEl.classList.remove('colab-df-spinner');\n",
              "      quickchartButtonEl.classList.add('colab-df-quickchart-complete');\n",
              "    }\n",
              "    (() => {\n",
              "      let quickchartButtonEl =\n",
              "        document.querySelector('#df-bb610287-e895-4932-ac6c-8f6abd60d8ee button');\n",
              "      quickchartButtonEl.style.display =\n",
              "        google.colab.kernel.accessAllowed ? 'block' : 'none';\n",
              "    })();\n",
              "  </script>\n",
              "</div>\n",
              "\n",
              "    </div>\n",
              "  </div>\n"
            ],
            "application/vnd.google.colaboratory.intrinsic+json": {
              "type": "dataframe",
              "summary": "{\n  \"name\": \"print(\\\"\\\\nFare Statistics by Class:\\\\n\\\", pivot_table)\",\n  \"rows\": 5,\n  \"fields\": [\n    {\n      \"column\": \"PassengerId\",\n      \"properties\": {\n        \"dtype\": \"number\",\n        \"std\": 278,\n        \"min\": 89,\n        \"max\": 738,\n        \"num_unique_values\": 5,\n        \"samples\": [\n          738,\n          89,\n          680\n        ],\n        \"semantic_type\": \"\",\n        \"description\": \"\"\n      }\n    },\n    {\n      \"column\": \"Survived\",\n      \"properties\": {\n        \"dtype\": \"number\",\n        \"std\": 0,\n        \"min\": 1,\n        \"max\": 1,\n        \"num_unique_values\": 1,\n        \"samples\": [\n          1\n        ],\n        \"semantic_type\": \"\",\n        \"description\": \"\"\n      }\n    },\n    {\n      \"column\": \"Pclass\",\n      \"properties\": {\n        \"dtype\": \"number\",\n        \"std\": 0,\n        \"min\": 1,\n        \"max\": 1,\n        \"num_unique_values\": 1,\n        \"samples\": [\n          1\n        ],\n        \"semantic_type\": \"\",\n        \"description\": \"\"\n      }\n    },\n    {\n      \"column\": \"Name\",\n      \"properties\": {\n        \"dtype\": \"string\",\n        \"num_unique_values\": 5,\n        \"samples\": [\n          \"Lesurer, Mr. Gustave J\"\n        ],\n        \"semantic_type\": \"\",\n        \"description\": \"\"\n      }\n    },\n    {\n      \"column\": \"Age\",\n      \"properties\": {\n        \"dtype\": \"number\",\n        \"std\": 6.5038450166036395,\n        \"min\": 23.0,\n        \"max\": 36.0,\n        \"num_unique_values\": 4,\n        \"samples\": [\n          36.0\n        ],\n        \"semantic_type\": \"\",\n        \"description\": \"\"\n      }\n    },\n    {\n      \"column\": \"SibSp\",\n      \"properties\": {\n        \"dtype\": \"number\",\n        \"std\": 1,\n        \"min\": 0,\n        \"max\": 3,\n        \"num_unique_values\": 2,\n        \"samples\": [\n          3\n        ],\n        \"semantic_type\": \"\",\n        \"description\": \"\"\n      }\n    },\n    {\n      \"column\": \"Parch\",\n      \"properties\": {\n        \"dtype\": \"number\",\n        \"std\": 1,\n        \"min\": 0,\n        \"max\": 2,\n        \"num_unique_values\": 3,\n        \"samples\": [\n          0\n        ],\n        \"semantic_type\": \"\",\n        \"description\": \"\"\n      }\n    },\n    {\n      \"column\": \"Ticket\",\n      \"properties\": {\n        \"dtype\": \"category\",\n        \"num_unique_values\": 2,\n        \"samples\": [\n          \"19950\"\n        ],\n        \"semantic_type\": \"\",\n        \"description\": \"\"\n      }\n    },\n    {\n      \"column\": \"Fare\",\n      \"properties\": {\n        \"dtype\": \"number\",\n        \"std\": 136.56322708471708,\n        \"min\": 263.0,\n        \"max\": 512.3292,\n        \"num_unique_values\": 2,\n        \"samples\": [\n          263.0\n        ],\n        \"semantic_type\": \"\",\n        \"description\": \"\"\n      }\n    },\n    {\n      \"column\": \"FamilySize\",\n      \"properties\": {\n        \"dtype\": \"number\",\n        \"std\": 2,\n        \"min\": 1,\n        \"max\": 6,\n        \"num_unique_values\": 3,\n        \"samples\": [\n          1\n        ],\n        \"semantic_type\": \"\",\n        \"description\": \"\"\n      }\n    },\n    {\n      \"column\": \"AgeGroup\",\n      \"properties\": {\n        \"dtype\": \"category\",\n        \"num_unique_values\": 2,\n        \"samples\": [\n          \"Adult\"\n        ],\n        \"semantic_type\": \"\",\n        \"description\": \"\"\n      }\n    },\n    {\n      \"column\": \"Sex_male\",\n      \"properties\": {\n        \"dtype\": \"boolean\",\n        \"num_unique_values\": 2,\n        \"samples\": [\n          true\n        ],\n        \"semantic_type\": \"\",\n        \"description\": \"\"\n      }\n    },\n    {\n      \"column\": \"Embarked_Q\",\n      \"properties\": {\n        \"dtype\": \"boolean\",\n        \"num_unique_values\": 1,\n        \"samples\": [\n          false\n        ],\n        \"semantic_type\": \"\",\n        \"description\": \"\"\n      }\n    },\n    {\n      \"column\": \"Embarked_S\",\n      \"properties\": {\n        \"dtype\": \"boolean\",\n        \"num_unique_values\": 2,\n        \"samples\": [\n          true\n        ],\n        \"semantic_type\": \"\",\n        \"description\": \"\"\n      }\n    },\n    {\n      \"column\": \"DiscountedFare\",\n      \"properties\": {\n        \"dtype\": \"number\",\n        \"std\": 122.90690437624536,\n        \"min\": 236.70000000000002,\n        \"max\": 461.09628000000004,\n        \"num_unique_values\": 2,\n        \"samples\": [\n          236.70000000000002\n        ],\n        \"semantic_type\": \"\",\n        \"description\": \"\"\n      }\n    }\n  ]\n}"
            }
          },
          "metadata": {}
        },
        {
          "output_type": "stream",
          "name": "stdout",
          "text": [
            "\n",
            "Fare Statistics by Class:\n",
            "              mean   median\n",
            "             Fare     Fare\n",
            "Pclass                    \n",
            "1       84.154687  60.2875\n",
            "2       20.662183  14.2500\n",
            "3       13.675550   8.0500\n"
          ]
        }
      ]
    },
    {
      "cell_type": "code",
      "source": [
        "## YOUR PRIZE 🏆:\n",
        "# Comprehensive Pandas Reference: https://github.com/mrdbourke/zero-to-mastery-ml/blob/master/section-2-data-science-and-ml-tools/introduction-to-pandas.ipynb"
      ],
      "metadata": {
        "id": "2yMwlXBo6ypN"
      },
      "execution_count": null,
      "outputs": []
    },
    {
      "cell_type": "code",
      "source": [
        "# Transition to NumPy\n",
        "print(\"\\nPandas processing complete. Moving to NumPy for numerical transformations.\")"
      ],
      "metadata": {
        "colab": {
          "base_uri": "https://localhost:8080/"
        },
        "id": "eS9apviZp5FF",
        "outputId": "83593487-e365-4da2-98f9-8b2eb61b13d2"
      },
      "execution_count": null,
      "outputs": [
        {
          "output_type": "stream",
          "name": "stdout",
          "text": [
            "\n",
            "Pandas processing complete. Moving to NumPy for numerical transformations.\n"
          ]
        }
      ]
    },
    {
      "cell_type": "markdown",
      "source": [
        "# NumPy"
      ],
      "metadata": {
        "id": "yKq8KGesW7uy"
      }
    },
    {
      "cell_type": "code",
      "source": [
        "import numpy as np"
      ],
      "metadata": {
        "id": "PBoxCIPjXAvA"
      },
      "execution_count": null,
      "outputs": []
    },
    {
      "cell_type": "code",
      "source": [
        "# NumPy: Numerical Computing Transformations\n",
        "# Converting relevant columns to NumPy arrays\n",
        "fare_array = df['Fare'].to_numpy()\n",
        "age_array = df['Age'].to_numpy()\n",
        "\n",
        "fare_array, age_array"
      ],
      "metadata": {
        "colab": {
          "base_uri": "https://localhost:8080/"
        },
        "id": "Q5rYn6pJXORL",
        "outputId": "e66a121d-6e5c-4432-ec74-a1ad0e0405d0"
      },
      "execution_count": null,
      "outputs": [
        {
          "output_type": "execute_result",
          "data": {
            "text/plain": [
              "(array([  7.25  ,  71.2833,   7.925 ,  53.1   ,   8.05  ,   8.4583,\n",
              "         51.8625,  21.075 ,  11.1333,  30.0708,  16.7   ,  26.55  ,\n",
              "          8.05  ,  31.275 ,   7.8542,  16.    ,  29.125 ,  13.    ,\n",
              "         18.    ,   7.225 ,  26.    ,  13.    ,   8.0292,  35.5   ,\n",
              "         21.075 ,  31.3875,   7.225 , 263.    ,   7.8792,   7.8958,\n",
              "         27.7208, 146.5208,   7.75  ,  10.5   ,  82.1708,  52.    ,\n",
              "          7.2292,   8.05  ,  18.    ,  11.2417,   9.475 ,  21.    ,\n",
              "          7.8958,  41.5792,   7.8792,   8.05  ,  15.5   ,   7.75  ,\n",
              "         21.6792,  17.8   ,  39.6875,   7.8   ,  76.7292,  26.    ,\n",
              "         61.9792,  35.5   ,  10.5   ,   7.2292,  27.75  ,  46.9   ,\n",
              "          7.2292,  80.    ,  83.475 ,  27.9   ,  27.7208,  15.2458,\n",
              "         10.5   ,   8.1583,   7.925 ,   8.6625,  10.5   ,  46.9   ,\n",
              "         73.5   ,  14.4542,  56.4958,   7.65  ,   7.8958,   8.05  ,\n",
              "         29.    ,  12.475 ,   9.    ,   9.5   ,   7.7875,  47.1   ,\n",
              "         10.5   ,  15.85  ,  34.375 ,   8.05  , 263.    ,   8.05  ,\n",
              "          8.05  ,   7.8542,  61.175 ,  20.575 ,   7.25  ,   8.05  ,\n",
              "         34.6542,  63.3583,  23.    ,  26.    ,   7.8958,   7.8958,\n",
              "         77.2875,   8.6542,   7.925 ,   7.8958,   7.65  ,   7.775 ,\n",
              "          7.8958,  24.15  ,  52.    ,  14.4542,   8.05  ,   9.825 ,\n",
              "         14.4583,   7.925 ,   7.75  ,  21.    , 247.5208,  31.275 ,\n",
              "         73.5   ,   8.05  ,  30.0708,  13.    ,  77.2875,  11.2417,\n",
              "          7.75  ,   7.1417,  22.3583,   6.975 ,   7.8958,   7.05  ,\n",
              "         14.5   ,  26.    ,  13.    ,  15.0458,  26.2833,  53.1   ,\n",
              "          9.2167,  79.2   ,  15.2458,   7.75  ,  15.85  ,   6.75  ,\n",
              "         11.5   ,  36.75  ,   7.7958,  34.375 ,  26.    ,  13.    ,\n",
              "         12.525 ,  66.6   ,   8.05  ,  14.5   ,   7.3125,  61.3792,\n",
              "          7.7333,   8.05  ,   8.6625,  69.55  ,  16.1   ,  15.75  ,\n",
              "          7.775 ,   8.6625,  39.6875,  20.525 ,  55.    ,  27.9   ,\n",
              "         25.925 ,  56.4958,  33.5   ,  29.125 ,  11.1333,   7.925 ,\n",
              "         30.6958,   7.8542,  25.4667,  28.7125,  13.    ,   0.    ,\n",
              "         69.55  ,  15.05  ,  31.3875,  39.    ,  22.025 ,  50.    ,\n",
              "         15.5   ,  26.55  ,  15.5   ,   7.8958,  13.    ,  13.    ,\n",
              "          7.8542,  26.    ,  27.7208, 146.5208,   7.75  ,   8.4042,\n",
              "          7.75  ,  13.    ,   9.5   ,  69.55  ,   6.4958,   7.225 ,\n",
              "          8.05  ,  10.4625,  15.85  ,  18.7875,   7.75  ,  31.    ,\n",
              "          7.05  ,  21.    ,   7.25  ,  13.    ,   7.75  , 113.275 ,\n",
              "          7.925 ,  27.    ,  76.2917,  10.5   ,   8.05  ,  13.    ,\n",
              "          8.05  ,   7.8958,  90.    ,   9.35  ,  10.5   ,   7.25  ,\n",
              "         13.    ,  25.4667,  83.475 ,   7.775 ,  13.5   ,  31.3875,\n",
              "         10.5   ,   7.55  ,  26.    ,  26.25  ,  10.5   ,  12.275 ,\n",
              "         14.4542,  15.5   ,  10.5   ,   7.125 ,   7.225 ,  90.    ,\n",
              "          7.775 ,  14.5   ,  52.5542,  26.    ,   7.25  ,  10.4625,\n",
              "         26.55  ,  16.1   ,  20.2125,  15.2458,  79.2   ,  86.5   ,\n",
              "        512.3292,  26.    ,   7.75  ,  31.3875,  79.65  ,   0.    ,\n",
              "          7.75  ,  10.5   ,  39.6875,   7.775 , 153.4625, 135.6333,\n",
              "         31.    ,   0.    ,  19.5   ,  29.7   ,   7.75  ,  77.9583,\n",
              "          7.75  ,   0.    ,  29.125 ,  20.25  ,   7.75  ,   7.8542,\n",
              "          9.5   ,   8.05  ,  26.    ,   8.6625,   9.5   ,   7.8958,\n",
              "         13.    ,   7.75  ,  78.85  ,  91.0792,  12.875 ,   8.85  ,\n",
              "          7.8958,  27.7208,   7.2292, 151.55  ,  30.5   , 247.5208,\n",
              "          7.75  ,  23.25  ,   0.    ,  12.35  ,   8.05  , 151.55  ,\n",
              "        110.8833, 108.9   ,  24.    ,  56.9292,  83.1583, 262.375 ,\n",
              "         26.    ,   7.8958,  26.25  ,   7.8542,  26.    ,  14.    ,\n",
              "        164.8667, 134.5   ,   7.25  ,   7.8958,  12.35  ,  29.    ,\n",
              "         69.55  , 135.6333,   6.2375,  13.    ,  20.525 ,  57.9792,\n",
              "         23.25  ,  28.5   , 153.4625,  18.    , 133.65  ,   7.8958,\n",
              "         66.6   , 134.5   ,   8.05  ,  35.5   ,  26.    , 263.    ,\n",
              "         13.    ,  13.    ,  13.    ,  13.    ,  13.    ,  16.1   ,\n",
              "         15.9   ,   8.6625,   9.225 ,  35.    ,   7.2292,  17.8   ,\n",
              "          7.225 ,   9.5   ,  55.    ,  13.    ,   7.8792,   7.8792,\n",
              "         27.9   ,  27.7208,  14.4542,   7.05  ,  15.5   ,   7.25  ,\n",
              "         75.25  ,   7.2292,   7.75  ,  69.3   ,  55.4417,   6.4958,\n",
              "          8.05  , 135.6333,  21.075 ,  82.1708,   7.25  , 211.5   ,\n",
              "          4.0125,   7.775 , 227.525 ,  15.7417,   7.925 ,  52.    ,\n",
              "          7.8958,  73.5   ,  46.9   ,  13.    ,   7.7292,  12.    ,\n",
              "        120.    ,   7.7958,   7.925 , 113.275 ,  16.7   ,   7.7958,\n",
              "          7.8542,  26.    ,  10.5   ,  12.65  ,   7.925 ,   8.05  ,\n",
              "          9.825 ,  15.85  ,   8.6625,  21.    ,   7.75  ,  18.75  ,\n",
              "          7.775 ,  25.4667,   7.8958,   6.8583,  90.    ,   0.    ,\n",
              "          7.925 ,   8.05  ,  32.5   ,  13.    ,  13.    ,  24.15  ,\n",
              "          7.8958,   7.7333,   7.875 ,  14.4   ,  20.2125,   7.25  ,\n",
              "         26.    ,  26.    ,   7.75  ,   8.05  ,  26.55  ,  16.1   ,\n",
              "         26.    ,   7.125 ,  55.9   , 120.    ,  34.375 ,  18.75  ,\n",
              "        263.    ,  10.5   ,  26.25  ,   9.5   ,   7.775 ,  13.    ,\n",
              "          8.1125,  81.8583,  19.5   ,  26.55  ,  19.2583,  30.5   ,\n",
              "         27.75  ,  19.9667,  27.75  ,  89.1042,   8.05  ,   7.8958,\n",
              "         26.55  ,  51.8625,  10.5   ,   7.75  ,  26.55  ,   8.05  ,\n",
              "         38.5   ,  13.    ,   8.05  ,   7.05  ,   0.    ,  26.55  ,\n",
              "          7.725 ,  19.2583,   7.25  ,   8.6625,  27.75  ,  13.7917,\n",
              "          9.8375,  52.    ,  21.    ,   7.0458,   7.5208,  12.2875,\n",
              "         46.9   ,   0.    ,   8.05  ,   9.5875,  91.0792,  25.4667,\n",
              "         90.    ,  29.7   ,   8.05  ,  15.9   ,  19.9667,   7.25  ,\n",
              "         30.5   ,  49.5042,   8.05  ,  14.4583,  78.2667,  15.1   ,\n",
              "        151.55  ,   7.7958,   8.6625,   7.75  ,   7.6292,   9.5875,\n",
              "         86.5   , 108.9   ,  26.    ,  26.55  ,  22.525 ,  56.4958,\n",
              "          7.75  ,   8.05  ,  26.2875,  59.4   ,   7.4958,  34.0208,\n",
              "         10.5   ,  24.15  ,  26.    ,   7.8958,  93.5   ,   7.8958,\n",
              "          7.225 ,  57.9792,   7.2292,   7.75  ,  10.5   , 221.7792,\n",
              "          7.925 ,  11.5   ,  26.    ,   7.2292,   7.2292,  22.3583,\n",
              "          8.6625,  26.25  ,  26.55  , 106.425 ,  14.5   ,  49.5   ,\n",
              "         71.    ,  31.275 ,  31.275 ,  26.    , 106.425 ,  26.    ,\n",
              "         26.    ,  13.8625,  20.525 ,  36.75  , 110.8833,  26.    ,\n",
              "          7.8292,   7.225 ,   7.775 ,  26.55  ,  39.6   , 227.525 ,\n",
              "         79.65  ,  17.4   ,   7.75  ,   7.8958,  13.5   ,   8.05  ,\n",
              "          8.05  ,  24.15  ,   7.8958,  21.075 ,   7.2292,   7.8542,\n",
              "         10.5   ,  51.4792,  26.3875,   7.75  ,   8.05  ,  14.5   ,\n",
              "         13.    ,  55.9   ,  14.4583,   7.925 ,  30.    , 110.8833,\n",
              "         26.    ,  40.125 ,   8.7125,  79.65  ,  15.    ,  79.2   ,\n",
              "          8.05  ,   8.05  ,   7.125 ,  78.2667,   7.25  ,   7.75  ,\n",
              "         26.    ,  24.15  ,  33.    ,   0.    ,   7.225 ,  56.9292,\n",
              "         27.    ,   7.8958,  42.4   ,   8.05  ,  26.55  ,  15.55  ,\n",
              "          7.8958,  30.5   ,  41.5792, 153.4625,  31.275 ,   7.05  ,\n",
              "         15.5   ,   7.75  ,   8.05  ,  65.    ,  14.4   ,  16.1   ,\n",
              "         39.    ,  10.5   ,  14.4542,  52.5542,  15.7417,   7.8542,\n",
              "         16.1   ,  32.3208,  12.35  ,  77.9583,   7.8958,   7.7333,\n",
              "         30.    ,   7.0542,  30.5   ,   0.    ,  27.9   ,  13.    ,\n",
              "          7.925 ,  26.25  ,  39.6875,  16.1   ,   7.8542,  69.3   ,\n",
              "         27.9   ,  56.4958,  19.2583,  76.7292,   7.8958,  35.5   ,\n",
              "          7.55  ,   7.55  ,   7.8958,  23.    ,   8.4333,   7.8292,\n",
              "          6.75  ,  73.5   ,   7.8958,  15.5   ,  13.    , 113.275 ,\n",
              "        133.65  ,   7.225 ,  25.5875,   7.4958,   7.925 ,  73.5   ,\n",
              "         13.    ,   7.775 ,   8.05  ,  52.    ,  39.    ,  52.    ,\n",
              "         10.5   ,  13.    ,   0.    ,   7.775 ,   8.05  ,   9.8417,\n",
              "         46.9   , 512.3292,   8.1375,  76.7292,   9.225 ,  46.9   ,\n",
              "         39.    ,  41.5792,  39.6875,  10.1708,   7.7958, 211.3375,\n",
              "         57.    ,  13.4167,  56.4958,   7.225 ,  26.55  ,  13.5   ,\n",
              "          8.05  ,   7.7333, 110.8833,   7.65  , 227.525 ,  26.2875,\n",
              "         14.4542,   7.7417,   7.8542,  26.    ,  13.5   ,  26.2875,\n",
              "        151.55  ,  15.2458,  49.5042,  26.55  ,  52.    ,   9.4833,\n",
              "         13.    ,   7.65  , 227.525 ,  10.5   ,  15.5   ,   7.775 ,\n",
              "         33.    ,   7.0542,  13.    ,  13.    ,  53.1   ,   8.6625,\n",
              "         21.    ,   7.7375,  26.    ,   7.925 , 211.3375,  18.7875,\n",
              "          0.    ,  13.    ,  13.    ,  16.1   ,  34.375 , 512.3292,\n",
              "          7.8958,   7.8958,  30.    ,  78.85  , 262.375 ,  16.1   ,\n",
              "          7.925 ,  71.    ,  20.25  ,  13.    ,  53.1   ,   7.75  ,\n",
              "         23.    ,  12.475 ,   9.5   ,   7.8958,  65.    ,  14.5   ,\n",
              "          7.7958,  11.5   ,   8.05  ,  86.5   ,  14.5   ,   7.125 ,\n",
              "          7.2292, 120.    ,   7.775 ,  77.9583,  39.6   ,   7.75  ,\n",
              "         24.15  ,   8.3625,   9.5   ,   7.8542,  10.5   ,   7.225 ,\n",
              "         23.    ,   7.75  ,   7.75  ,  12.475 ,   7.7375, 211.3375,\n",
              "          7.2292,  57.    ,  30.    ,  23.45  ,   7.05  ,   7.25  ,\n",
              "          7.4958,  29.125 ,  20.575 ,  79.2   ,   7.75  ,  26.    ,\n",
              "         69.55  ,  30.6958,   7.8958,  13.    ,  25.9292,   8.6833,\n",
              "          7.2292,  24.15  ,  13.    ,  26.25  , 120.    ,   8.5167,\n",
              "          6.975 ,   7.775 ,   0.    ,   7.775 ,  13.    ,  53.1   ,\n",
              "          7.8875,  24.15  ,  10.5   ,  31.275 ,   8.05  ,   0.    ,\n",
              "          7.925 ,  37.0042,   6.45  ,  27.9   ,  93.5   ,   8.6625,\n",
              "          0.    ,  12.475 ,  39.6875,   6.95  ,  56.4958,  37.0042,\n",
              "          7.75  ,  80.    ,  14.4542,  18.75  ,   7.2292,   7.8542,\n",
              "          8.3   ,  83.1583,   8.6625,   8.05  ,  56.4958,  29.7   ,\n",
              "          7.925 ,  10.5   ,  31.    ,   6.4375,   8.6625,   7.55  ,\n",
              "         69.55  ,   7.8958,  33.    ,  89.1042,  31.275 ,   7.775 ,\n",
              "         15.2458,  39.4   ,  26.    ,   9.35  , 164.8667,  26.55  ,\n",
              "         19.2583,   7.2292,  14.1083,  11.5   ,  25.9292,  69.55  ,\n",
              "         13.    ,  13.    ,  13.8583,  50.4958,   9.5   ,  11.1333,\n",
              "          7.8958,  52.5542,   5.    ,   9.    ,  24.    ,   7.225 ,\n",
              "          9.8458,   7.8958,   7.8958,  83.1583,  26.    ,   7.8958,\n",
              "         10.5167,  10.5   ,   7.05  ,  29.125 ,  13.    ,  30.    ,\n",
              "         23.45  ,  30.    ,   7.75  ]),\n",
              " array([22.  , 38.  , 26.  , 35.  , 35.  , 28.  , 54.  ,  2.  , 27.  ,\n",
              "        14.  ,  4.  , 58.  , 20.  , 39.  , 14.  , 55.  ,  2.  , 28.  ,\n",
              "        31.  , 28.  , 35.  , 34.  , 15.  , 28.  ,  8.  , 38.  , 28.  ,\n",
              "        19.  , 28.  , 28.  , 40.  , 28.  , 28.  , 66.  , 28.  , 42.  ,\n",
              "        28.  , 21.  , 18.  , 14.  , 40.  , 27.  , 28.  ,  3.  , 19.  ,\n",
              "        28.  , 28.  , 28.  , 28.  , 18.  ,  7.  , 21.  , 49.  , 29.  ,\n",
              "        65.  , 28.  , 21.  , 28.5 ,  5.  , 11.  , 22.  , 38.  , 45.  ,\n",
              "         4.  , 28.  , 28.  , 29.  , 19.  , 17.  , 26.  , 32.  , 16.  ,\n",
              "        21.  , 26.  , 32.  , 25.  , 28.  , 28.  ,  0.83, 30.  , 22.  ,\n",
              "        29.  , 28.  , 28.  , 17.  , 33.  , 16.  , 28.  , 23.  , 24.  ,\n",
              "        29.  , 20.  , 46.  , 26.  , 59.  , 28.  , 71.  , 23.  , 34.  ,\n",
              "        34.  , 28.  , 28.  , 21.  , 33.  , 37.  , 28.  , 21.  , 28.  ,\n",
              "        38.  , 28.  , 47.  , 14.5 , 22.  , 20.  , 17.  , 21.  , 70.5 ,\n",
              "        29.  , 24.  ,  2.  , 21.  , 28.  , 32.5 , 32.5 , 54.  , 12.  ,\n",
              "        28.  , 24.  , 28.  , 45.  , 33.  , 20.  , 47.  , 29.  , 25.  ,\n",
              "        23.  , 19.  , 37.  , 16.  , 24.  , 28.  , 22.  , 24.  , 19.  ,\n",
              "        18.  , 19.  , 27.  ,  9.  , 36.5 , 42.  , 51.  , 22.  , 55.5 ,\n",
              "        40.5 , 28.  , 51.  , 16.  , 30.  , 28.  , 28.  , 44.  , 40.  ,\n",
              "        26.  , 17.  ,  1.  ,  9.  , 28.  , 45.  , 28.  , 28.  , 61.  ,\n",
              "         4.  ,  1.  , 21.  , 56.  , 18.  , 28.  , 50.  , 30.  , 36.  ,\n",
              "        28.  , 28.  ,  9.  ,  1.  ,  4.  , 28.  , 28.  , 45.  , 40.  ,\n",
              "        36.  , 32.  , 19.  , 19.  ,  3.  , 44.  , 58.  , 28.  , 42.  ,\n",
              "        28.  , 24.  , 28.  , 28.  , 34.  , 45.5 , 18.  ,  2.  , 32.  ,\n",
              "        26.  , 16.  , 40.  , 24.  , 35.  , 22.  , 30.  , 28.  , 31.  ,\n",
              "        27.  , 42.  , 32.  , 30.  , 16.  , 27.  , 51.  , 28.  , 38.  ,\n",
              "        22.  , 19.  , 20.5 , 18.  , 28.  , 35.  , 29.  , 59.  ,  5.  ,\n",
              "        24.  , 28.  , 44.  ,  8.  , 19.  , 33.  , 28.  , 28.  , 29.  ,\n",
              "        22.  , 30.  , 44.  , 25.  , 24.  , 37.  , 54.  , 28.  , 29.  ,\n",
              "        62.  , 30.  , 41.  , 29.  , 28.  , 30.  , 35.  , 50.  , 28.  ,\n",
              "         3.  , 52.  , 40.  , 28.  , 36.  , 16.  , 25.  , 58.  , 35.  ,\n",
              "        28.  , 25.  , 41.  , 37.  , 28.  , 63.  , 45.  , 28.  ,  7.  ,\n",
              "        35.  , 65.  , 28.  , 16.  , 19.  , 28.  , 33.  , 30.  , 22.  ,\n",
              "        42.  , 22.  , 26.  , 19.  , 36.  , 24.  , 24.  , 28.  , 23.5 ,\n",
              "         2.  , 28.  , 50.  , 28.  , 28.  , 19.  , 28.  , 28.  ,  0.92,\n",
              "        28.  , 17.  , 30.  , 30.  , 24.  , 18.  , 26.  , 28.  , 43.  ,\n",
              "        26.  , 24.  , 54.  , 31.  , 40.  , 22.  , 27.  , 30.  , 22.  ,\n",
              "        28.  , 36.  , 61.  , 36.  , 31.  , 16.  , 28.  , 45.5 , 38.  ,\n",
              "        16.  , 28.  , 28.  , 29.  , 41.  , 45.  , 45.  ,  2.  , 24.  ,\n",
              "        28.  , 25.  , 36.  , 24.  , 40.  , 28.  ,  3.  , 42.  , 23.  ,\n",
              "        28.  , 15.  , 25.  , 28.  , 28.  , 22.  , 38.  , 28.  , 28.  ,\n",
              "        40.  , 29.  , 45.  , 35.  , 28.  , 30.  , 60.  , 28.  , 28.  ,\n",
              "        24.  , 25.  , 18.  , 19.  , 22.  ,  3.  , 28.  , 22.  , 27.  ,\n",
              "        20.  , 19.  , 42.  ,  1.  , 32.  , 35.  , 28.  , 18.  ,  1.  ,\n",
              "        36.  , 28.  , 17.  , 36.  , 21.  , 28.  , 23.  , 24.  , 22.  ,\n",
              "        31.  , 46.  , 23.  , 28.  , 39.  , 26.  , 21.  , 28.  , 20.  ,\n",
              "        34.  , 51.  ,  3.  , 21.  , 28.  , 28.  , 28.  , 33.  , 28.  ,\n",
              "        44.  , 28.  , 34.  , 18.  , 30.  , 10.  , 28.  , 21.  , 29.  ,\n",
              "        28.  , 18.  , 28.  , 28.  , 19.  , 28.  , 32.  , 28.  , 28.  ,\n",
              "        42.  , 17.  , 50.  , 14.  , 21.  , 24.  , 64.  , 31.  , 45.  ,\n",
              "        20.  , 25.  , 28.  , 28.  ,  4.  , 13.  , 34.  ,  5.  , 52.  ,\n",
              "        36.  , 28.  , 30.  , 49.  , 28.  , 29.  , 65.  , 28.  , 50.  ,\n",
              "        28.  , 48.  , 34.  , 47.  , 48.  , 28.  , 38.  , 28.  , 56.  ,\n",
              "        28.  ,  0.75, 28.  , 38.  , 33.  , 23.  , 22.  , 28.  , 34.  ,\n",
              "        29.  , 22.  ,  2.  ,  9.  , 28.  , 50.  , 63.  , 25.  , 28.  ,\n",
              "        35.  , 58.  , 30.  ,  9.  , 28.  , 21.  , 55.  , 71.  , 21.  ,\n",
              "        28.  , 54.  , 28.  , 25.  , 24.  , 17.  , 21.  , 28.  , 37.  ,\n",
              "        16.  , 18.  , 33.  , 28.  , 28.  , 26.  , 29.  , 28.  , 36.  ,\n",
              "        54.  , 24.  , 47.  , 34.  , 28.  , 36.  , 32.  , 30.  , 22.  ,\n",
              "        28.  , 44.  , 28.  , 40.5 , 50.  , 28.  , 39.  , 23.  ,  2.  ,\n",
              "        28.  , 17.  , 28.  , 30.  ,  7.  , 45.  , 30.  , 28.  , 22.  ,\n",
              "        36.  ,  9.  , 11.  , 32.  , 50.  , 64.  , 19.  , 28.  , 33.  ,\n",
              "         8.  , 17.  , 27.  , 28.  , 22.  , 22.  , 62.  , 48.  , 28.  ,\n",
              "        39.  , 36.  , 28.  , 40.  , 28.  , 28.  , 28.  , 24.  , 19.  ,\n",
              "        29.  , 28.  , 32.  , 62.  , 53.  , 36.  , 28.  , 16.  , 19.  ,\n",
              "        34.  , 39.  , 28.  , 32.  , 25.  , 39.  , 54.  , 36.  , 28.  ,\n",
              "        18.  , 47.  , 60.  , 22.  , 28.  , 35.  , 52.  , 47.  , 28.  ,\n",
              "        37.  , 36.  , 28.  , 49.  , 28.  , 49.  , 24.  , 28.  , 28.  ,\n",
              "        44.  , 35.  , 36.  , 30.  , 27.  , 22.  , 40.  , 39.  , 28.  ,\n",
              "        28.  , 28.  , 35.  , 24.  , 34.  , 26.  ,  4.  , 26.  , 27.  ,\n",
              "        42.  , 20.  , 21.  , 21.  , 61.  , 57.  , 21.  , 26.  , 28.  ,\n",
              "        80.  , 51.  , 32.  , 28.  ,  9.  , 28.  , 32.  , 31.  , 41.  ,\n",
              "        28.  , 20.  , 24.  ,  2.  , 28.  ,  0.75, 48.  , 19.  , 56.  ,\n",
              "        28.  , 23.  , 28.  , 18.  , 21.  , 28.  , 18.  , 24.  , 28.  ,\n",
              "        32.  , 23.  , 58.  , 50.  , 40.  , 47.  , 36.  , 20.  , 32.  ,\n",
              "        25.  , 28.  , 43.  , 28.  , 40.  , 31.  , 70.  , 31.  , 28.  ,\n",
              "        18.  , 24.5 , 18.  , 43.  , 36.  , 28.  , 27.  , 20.  , 14.  ,\n",
              "        60.  , 25.  , 14.  , 19.  , 18.  , 15.  , 31.  ,  4.  , 28.  ,\n",
              "        25.  , 60.  , 52.  , 44.  , 28.  , 49.  , 42.  , 18.  , 35.  ,\n",
              "        18.  , 25.  , 26.  , 39.  , 45.  , 42.  , 22.  , 28.  , 24.  ,\n",
              "        28.  , 48.  , 29.  , 52.  , 19.  , 38.  , 27.  , 28.  , 33.  ,\n",
              "         6.  , 17.  , 34.  , 50.  , 27.  , 20.  , 30.  , 28.  , 25.  ,\n",
              "        25.  , 29.  , 11.  , 28.  , 23.  , 23.  , 28.5 , 48.  , 35.  ,\n",
              "        28.  , 28.  , 28.  , 36.  , 21.  , 24.  , 31.  , 70.  , 16.  ,\n",
              "        30.  , 19.  , 31.  ,  4.  ,  6.  , 33.  , 23.  , 48.  ,  0.67,\n",
              "        28.  , 18.  , 34.  , 33.  , 28.  , 41.  , 20.  , 36.  , 16.  ,\n",
              "        51.  , 28.  , 30.5 , 28.  , 32.  , 24.  , 48.  , 57.  , 28.  ,\n",
              "        54.  , 18.  , 28.  ,  5.  , 28.  , 43.  , 13.  , 17.  , 29.  ,\n",
              "        28.  , 25.  , 25.  , 18.  ,  8.  ,  1.  , 46.  , 28.  , 16.  ,\n",
              "        28.  , 28.  , 25.  , 39.  , 49.  , 31.  , 30.  , 30.  , 34.  ,\n",
              "        31.  , 11.  ,  0.42, 27.  , 31.  , 39.  , 18.  , 39.  , 33.  ,\n",
              "        26.  , 39.  , 35.  ,  6.  , 30.5 , 28.  , 23.  , 31.  , 43.  ,\n",
              "        10.  , 52.  , 27.  , 38.  , 27.  ,  2.  , 28.  , 28.  ,  1.  ,\n",
              "        28.  , 62.  , 15.  ,  0.83, 28.  , 23.  , 18.  , 39.  , 21.  ,\n",
              "        28.  , 32.  , 28.  , 20.  , 16.  , 30.  , 34.5 , 17.  , 42.  ,\n",
              "        28.  , 35.  , 28.  , 28.  ,  4.  , 74.  ,  9.  , 16.  , 44.  ,\n",
              "        18.  , 45.  , 51.  , 24.  , 28.  , 41.  , 21.  , 48.  , 28.  ,\n",
              "        24.  , 42.  , 27.  , 31.  , 28.  ,  4.  , 26.  , 47.  , 33.  ,\n",
              "        47.  , 28.  , 15.  , 20.  , 19.  , 28.  , 56.  , 25.  , 33.  ,\n",
              "        22.  , 28.  , 25.  , 39.  , 27.  , 19.  , 28.  , 26.  , 32.  ]))"
            ]
          },
          "metadata": {},
          "execution_count": 13
        }
      ]
    },
    {
      "cell_type": "code",
      "source": [
        "# Statistical Analysis\n",
        "print(\"\\nNumPy Statistics:\")\n",
        "print(\"Mean Fare:\", np.mean(fare_array))\n",
        "print(\"Median Fare:\", np.median(fare_array))\n",
        "print(\"Standard Deviation of Fare:\", np.std(fare_array))"
      ],
      "metadata": {
        "colab": {
          "base_uri": "https://localhost:8080/"
        },
        "id": "6sbfy6UrqSgk",
        "outputId": "eb408752-4d9b-4efc-9199-a2563e6d76eb"
      },
      "execution_count": null,
      "outputs": [
        {
          "output_type": "stream",
          "name": "stdout",
          "text": [
            "\n",
            "NumPy Statistics:\n",
            "Mean Fare: 32.204207968574636\n",
            "Median Fare: 14.4542\n",
            "Standard Deviation of Fare: 49.6655344447741\n"
          ]
        }
      ]
    },
    {
      "cell_type": "code",
      "source": [
        "# Normalization (Scaling Fare values between 0 and 1)\n",
        "fare_min = np.min(fare_array)\n",
        "fare_max = np.max(fare_array)\n",
        "df['Fare_Normalized'] = (fare_array - fare_min) / (fare_max - fare_min)\n",
        "df['Fare_Normalized']"
      ],
      "metadata": {
        "colab": {
          "base_uri": "https://localhost:8080/",
          "height": 458
        },
        "id": "gayhmCWmqhJG",
        "outputId": "c0ab1c1d-3008-4df3-e037-267a43757438"
      },
      "execution_count": null,
      "outputs": [
        {
          "output_type": "execute_result",
          "data": {
            "text/plain": [
              "0      0.014151\n",
              "1      0.139136\n",
              "2      0.015469\n",
              "3      0.103644\n",
              "4      0.015713\n",
              "         ...   \n",
              "886    0.025374\n",
              "887    0.058556\n",
              "888    0.045771\n",
              "889    0.058556\n",
              "890    0.015127\n",
              "Name: Fare_Normalized, Length: 891, dtype: float64"
            ],
            "text/html": [
              "<div>\n",
              "<style scoped>\n",
              "    .dataframe tbody tr th:only-of-type {\n",
              "        vertical-align: middle;\n",
              "    }\n",
              "\n",
              "    .dataframe tbody tr th {\n",
              "        vertical-align: top;\n",
              "    }\n",
              "\n",
              "    .dataframe thead th {\n",
              "        text-align: right;\n",
              "    }\n",
              "</style>\n",
              "<table border=\"1\" class=\"dataframe\">\n",
              "  <thead>\n",
              "    <tr style=\"text-align: right;\">\n",
              "      <th></th>\n",
              "      <th>Fare_Normalized</th>\n",
              "    </tr>\n",
              "  </thead>\n",
              "  <tbody>\n",
              "    <tr>\n",
              "      <th>0</th>\n",
              "      <td>0.014151</td>\n",
              "    </tr>\n",
              "    <tr>\n",
              "      <th>1</th>\n",
              "      <td>0.139136</td>\n",
              "    </tr>\n",
              "    <tr>\n",
              "      <th>2</th>\n",
              "      <td>0.015469</td>\n",
              "    </tr>\n",
              "    <tr>\n",
              "      <th>3</th>\n",
              "      <td>0.103644</td>\n",
              "    </tr>\n",
              "    <tr>\n",
              "      <th>4</th>\n",
              "      <td>0.015713</td>\n",
              "    </tr>\n",
              "    <tr>\n",
              "      <th>...</th>\n",
              "      <td>...</td>\n",
              "    </tr>\n",
              "    <tr>\n",
              "      <th>886</th>\n",
              "      <td>0.025374</td>\n",
              "    </tr>\n",
              "    <tr>\n",
              "      <th>887</th>\n",
              "      <td>0.058556</td>\n",
              "    </tr>\n",
              "    <tr>\n",
              "      <th>888</th>\n",
              "      <td>0.045771</td>\n",
              "    </tr>\n",
              "    <tr>\n",
              "      <th>889</th>\n",
              "      <td>0.058556</td>\n",
              "    </tr>\n",
              "    <tr>\n",
              "      <th>890</th>\n",
              "      <td>0.015127</td>\n",
              "    </tr>\n",
              "  </tbody>\n",
              "</table>\n",
              "<p>891 rows × 1 columns</p>\n",
              "</div><br><label><b>dtype:</b> float64</label>"
            ]
          },
          "metadata": {},
          "execution_count": 15
        }
      ]
    },
    {
      "cell_type": "code",
      "source": [
        "# Applying NumPy Vectorized Operations\n",
        "# Creating a new feature: Log-transformed Fare to reduce skewness\n",
        "df['Fare_Log'] = np.log1p(fare_array)\n",
        "df['Fare_Log']"
      ],
      "metadata": {
        "colab": {
          "base_uri": "https://localhost:8080/",
          "height": 458
        },
        "id": "rf7EQ-VH5Dy1",
        "outputId": "15367ea2-2581-4fe3-dd5b-dce4d2cbd97b"
      },
      "execution_count": null,
      "outputs": [
        {
          "output_type": "execute_result",
          "data": {
            "text/plain": [
              "0      2.110213\n",
              "1      4.280593\n",
              "2      2.188856\n",
              "3      3.990834\n",
              "4      2.202765\n",
              "         ...   \n",
              "886    2.639057\n",
              "887    3.433987\n",
              "888    3.196630\n",
              "889    3.433987\n",
              "890    2.169054\n",
              "Name: Fare_Log, Length: 891, dtype: float64"
            ],
            "text/html": [
              "<div>\n",
              "<style scoped>\n",
              "    .dataframe tbody tr th:only-of-type {\n",
              "        vertical-align: middle;\n",
              "    }\n",
              "\n",
              "    .dataframe tbody tr th {\n",
              "        vertical-align: top;\n",
              "    }\n",
              "\n",
              "    .dataframe thead th {\n",
              "        text-align: right;\n",
              "    }\n",
              "</style>\n",
              "<table border=\"1\" class=\"dataframe\">\n",
              "  <thead>\n",
              "    <tr style=\"text-align: right;\">\n",
              "      <th></th>\n",
              "      <th>Fare_Log</th>\n",
              "    </tr>\n",
              "  </thead>\n",
              "  <tbody>\n",
              "    <tr>\n",
              "      <th>0</th>\n",
              "      <td>2.110213</td>\n",
              "    </tr>\n",
              "    <tr>\n",
              "      <th>1</th>\n",
              "      <td>4.280593</td>\n",
              "    </tr>\n",
              "    <tr>\n",
              "      <th>2</th>\n",
              "      <td>2.188856</td>\n",
              "    </tr>\n",
              "    <tr>\n",
              "      <th>3</th>\n",
              "      <td>3.990834</td>\n",
              "    </tr>\n",
              "    <tr>\n",
              "      <th>4</th>\n",
              "      <td>2.202765</td>\n",
              "    </tr>\n",
              "    <tr>\n",
              "      <th>...</th>\n",
              "      <td>...</td>\n",
              "    </tr>\n",
              "    <tr>\n",
              "      <th>886</th>\n",
              "      <td>2.639057</td>\n",
              "    </tr>\n",
              "    <tr>\n",
              "      <th>887</th>\n",
              "      <td>3.433987</td>\n",
              "    </tr>\n",
              "    <tr>\n",
              "      <th>888</th>\n",
              "      <td>3.196630</td>\n",
              "    </tr>\n",
              "    <tr>\n",
              "      <th>889</th>\n",
              "      <td>3.433987</td>\n",
              "    </tr>\n",
              "    <tr>\n",
              "      <th>890</th>\n",
              "      <td>2.169054</td>\n",
              "    </tr>\n",
              "  </tbody>\n",
              "</table>\n",
              "<p>891 rows × 1 columns</p>\n",
              "</div><br><label><b>dtype:</b> float64</label>"
            ]
          },
          "metadata": {},
          "execution_count": 16
        }
      ]
    },
    {
      "cell_type": "code",
      "source": [
        "# Linear Algebra Example: Creating a Feature Matrix\n",
        "feature_matrix = np.column_stack((df['Fare'], df['Age'], df['FamilySize']))\n",
        "print(\"\\nFeature Matrix Shape:\", feature_matrix.shape)\n",
        "feature_matrix"
      ],
      "metadata": {
        "colab": {
          "base_uri": "https://localhost:8080/"
        },
        "id": "AxPc7Nll5iSL",
        "outputId": "6aa4c58b-e217-4ba0-f12d-bad33377f90a"
      },
      "execution_count": null,
      "outputs": [
        {
          "output_type": "stream",
          "name": "stdout",
          "text": [
            "\n",
            "Feature Matrix Shape: (891, 3)\n"
          ]
        },
        {
          "output_type": "execute_result",
          "data": {
            "text/plain": [
              "array([[ 7.25  , 22.    ,  2.    ],\n",
              "       [71.2833, 38.    ,  2.    ],\n",
              "       [ 7.925 , 26.    ,  1.    ],\n",
              "       ...,\n",
              "       [23.45  , 28.    ,  4.    ],\n",
              "       [30.    , 26.    ,  1.    ],\n",
              "       [ 7.75  , 32.    ,  1.    ]])"
            ]
          },
          "metadata": {},
          "execution_count": 17
        }
      ]
    },
    {
      "cell_type": "code",
      "source": [
        "## YOUR PRIZE 🏆:\n",
        "# Comprehensive Numpy Reference: https://github.com/mrdbourke/zero-to-mastery-ml/blob/master/section-2-data-science-and-ml-tools/introduction-to-numpy.ipynb"
      ],
      "metadata": {
        "id": "JNqak38l7Rmc"
      },
      "execution_count": null,
      "outputs": []
    },
    {
      "cell_type": "code",
      "source": [
        "# Transition to Dask\n",
        "print(\"\\nNumPy processing complete. Moving to Dask for parallelized data operations.\")"
      ],
      "metadata": {
        "colab": {
          "base_uri": "https://localhost:8080/"
        },
        "id": "MRsBWMzk53qb",
        "outputId": "7fb33b31-c6c8-47d2-ec82-73067ab83023"
      },
      "execution_count": null,
      "outputs": [
        {
          "output_type": "stream",
          "name": "stdout",
          "text": [
            "\n",
            "NumPy processing complete. Moving to Dask for parallelized data operations.\n"
          ]
        }
      ]
    },
    {
      "cell_type": "markdown",
      "source": [
        "# Dask"
      ],
      "metadata": {
        "id": "82TgReT9XVwj"
      }
    },
    {
      "cell_type": "markdown",
      "source": [
        "# ===== Moving to Dask for Large-Scale Data Processing =====\n"
      ],
      "metadata": {
        "id": "QzQFv5sehUBS"
      }
    },
    {
      "cell_type": "code",
      "source": [
        "import dask.dataframe as dd"
      ],
      "metadata": {
        "id": "utiEdeJNXYpV"
      },
      "execution_count": null,
      "outputs": []
    },
    {
      "cell_type": "code",
      "source": [
        "# Load a large dataset (OpenWeather Historical Data) suitable for Dask\n",
        "weather_url = \"https://raw.githubusercontent.com/plotly/datasets/master/2016-weather-data-seattle.csv\"\n",
        "weather_df = dd.read_csv(weather_url, low_memory=False, dtype={'Mean_TemperatureC': 'float64', 'Min_TemperatureC': 'float64'})\n",
        "\n",
        "# Display dataset information\n",
        "print(\"\\nOpenWeather Dataset Info:\")\n",
        "print(weather_df.dtypes)"
      ],
      "metadata": {
        "colab": {
          "base_uri": "https://localhost:8080/"
        },
        "id": "5Q9PuRc4Xat6",
        "outputId": "4d65e893-d29b-4cac-8f60-5872b8d6b40e"
      },
      "execution_count": null,
      "outputs": [
        {
          "output_type": "stream",
          "name": "stdout",
          "text": [
            "\n",
            "OpenWeather Dataset Info:\n",
            "Date                 string[pyarrow]\n",
            "Max_TemperatureC               int64\n",
            "Mean_TemperatureC            float64\n",
            "Min_TemperatureC             float64\n",
            "dtype: object\n"
          ]
        }
      ]
    },
    {
      "cell_type": "code",
      "source": [
        "# Lazy Evaluation: Checking Missing Values (Only computed when necessary)\n",
        "missing_values = weather_df.isnull().sum()\n",
        "print(\"\\n Missing Values in OpenWeather Dataset:\\n\", missing_values.compute())"
      ],
      "metadata": {
        "colab": {
          "base_uri": "https://localhost:8080/"
        },
        "id": "Drh27YUUjvhL",
        "outputId": "a55a375d-746f-467a-a436-43a9d6827894"
      },
      "execution_count": null,
      "outputs": [
        {
          "output_type": "stream",
          "name": "stdout",
          "text": [
            "\n",
            " Missing Values in OpenWeather Dataset:\n",
            " Date                 0\n",
            "Max_TemperatureC     0\n",
            "Mean_TemperatureC    5\n",
            "Min_TemperatureC     1\n",
            "dtype: int64\n"
          ]
        }
      ]
    },
    {
      "cell_type": "code",
      "source": [
        "# Data Cleaning: Filling Missing Values in 'Mean_TemperatureC' with median\n",
        "weather_df['Mean_TemperatureC'] = weather_df['Mean_TemperatureC'].fillna(weather_df['Mean_TemperatureC'].median())"
      ],
      "metadata": {
        "id": "V6coQhiykLfU"
      },
      "execution_count": null,
      "outputs": []
    },
    {
      "cell_type": "code",
      "source": [
        "print(weather_df.columns)"
      ],
      "metadata": {
        "colab": {
          "base_uri": "https://localhost:8080/"
        },
        "id": "naVdRn1Sk4xf",
        "outputId": "c599b417-88bf-4bdd-f974-8c43aa2c0ead"
      },
      "execution_count": null,
      "outputs": [
        {
          "output_type": "stream",
          "name": "stdout",
          "text": [
            "Index(['Date', 'Max_TemperatureC', 'Mean_TemperatureC', 'Min_TemperatureC'], dtype='object')\n"
          ]
        }
      ]
    },
    {
      "cell_type": "code",
      "source": [
        "# Filtering: Selecting High-Temperature Days (Above 90th percentile)\n",
        "hot_days = weather_df[weather_df['Mean_TemperatureC'] > weather_df['Mean_TemperatureC'].quantile(0.9)]\n",
        "print(\"\\nHigh-Temperature Days Sample:\\n\", hot_days.head())\n",
        "\n",
        "# Aggregation: Calculating Mean Humidity per Month\n",
        "weather_df['Date'] = dd.to_datetime(weather_df['Date'])\n",
        "weather_df['Month'] = weather_df['Date'].dt.month\n",
        "mean_humidity_per_month = weather_df.groupby('Month')['Mean_TemperatureC'].mean()\n",
        "print(\"\\nMean Humidity per Month:\\n\", mean_humidity_per_month.compute())"
      ],
      "metadata": {
        "colab": {
          "base_uri": "https://localhost:8080/"
        },
        "id": "1NQ0XCAHkVIb",
        "outputId": "6f6ec8f5-6ebe-457d-cb6f-f6f40ecbff05"
      },
      "execution_count": null,
      "outputs": [
        {
          "output_type": "stream",
          "name": "stdout",
          "text": [
            "\n",
            "High-Temperature Days Sample:\n",
            "           Date  Max_TemperatureC  Mean_TemperatureC  Min_TemperatureC\n",
            "157   6/6/1948                27               20.0              13.0\n",
            "158   6/7/1948                30               23.0              16.0\n",
            "159   6/8/1948                29               22.0              16.0\n",
            "160   6/9/1948                26               21.0              14.0\n",
            "179  6/28/1948                28               21.0              14.0\n",
            "\n",
            "Mean Humidity per Month:\n",
            " Month\n",
            "1      4.493982\n",
            "2      6.053022\n",
            "3      7.365591\n",
            "4      9.612317\n",
            "5     12.917590\n",
            "6     15.750250\n",
            "7     18.344728\n",
            "8     18.332525\n",
            "9     15.826866\n",
            "10    11.355320\n",
            "11     7.287562\n",
            "12     4.856042\n",
            "Name: Mean_TemperatureC, dtype: float64\n"
          ]
        }
      ]
    },
    {
      "cell_type": "code",
      "source": [
        "## YOUR PRIZE 🏆:\n",
        "# Comprehensive DASK Reference: https://domino.ai/blog/dask-step-by-step-tutorial"
      ],
      "metadata": {
        "id": "NdyGPTOGn9dD"
      },
      "execution_count": null,
      "outputs": []
    },
    {
      "cell_type": "markdown",
      "source": [
        "# SciPy"
      ],
      "metadata": {
        "id": "lYV-fnimXocq"
      }
    },
    {
      "cell_type": "code",
      "source": [
        "from scipy import stats, spatial"
      ],
      "metadata": {
        "id": "WwW1qQryXiFT"
      },
      "execution_count": null,
      "outputs": []
    },
    {
      "cell_type": "code",
      "source": [
        "# -----------------------------\n",
        "# Statistical Tests with SciPy\n",
        "# -----------------------------\n",
        "\n",
        "# Chi-squared Test: Testing if there is a relationship between 'Sex' and 'Survived'\n",
        "contingency_table = pd.crosstab(df['Sex_male'], df['Survived'])\n",
        "chi2, p, dof, expected = stats.chi2_contingency(contingency_table)\n",
        "print(\"\\nChi-squared Test: Sex vs Survived\")\n",
        "print(f\"Chi2: {chi2}, p-value: {p}\")\n",
        "\n",
        "# Interpretation\n",
        "if p < 0.05:\n",
        "    print(\"There is a significant relationship between Sex and Survival.\")\n",
        "else:\n",
        "    print(\"No significant relationship between Sex and Survival.\")\n"
      ],
      "metadata": {
        "colab": {
          "base_uri": "https://localhost:8080/"
        },
        "id": "H_Vse-cAXrEo",
        "outputId": "e8036740-f030-43d4-8678-891b0b205bde"
      },
      "execution_count": null,
      "outputs": [
        {
          "output_type": "stream",
          "name": "stdout",
          "text": [
            "\n",
            "Chi-squared Test: Sex vs Survived\n",
            "Chi2: 260.71702016732104, p-value: 1.1973570627755645e-58\n",
            "There is a significant relationship between Sex and Survival.\n"
          ]
        }
      ]
    },
    {
      "cell_type": "code",
      "source": [
        "# -----------------------------\n",
        "# Advanced Statistical Analysis with SciPy\n",
        "# -----------------------------\n",
        "\n",
        "# T-test: Comparing average Fare between passengers who survived vs those who did not\n",
        "survived = df[df['Survived'] == 1]['Fare'].dropna()\n",
        "not_survived = df[df['Survived'] == 0]['Fare'].dropna()\n",
        "\n",
        "t_stat, p_value = stats.ttest_ind(survived, not_survived)\n",
        "print(\"\\nT-test: Survived vs Not Survived\")\n",
        "print(f\"T-statistic: {t_stat}, p-value: {p_value}\")\n",
        "\n",
        "# Interpretation\n",
        "if p_value < 0.05:\n",
        "    print(\"There is a significant difference in Fare between survivors and non-survivors.\")\n",
        "else:\n",
        "    print(\"No significant difference in Fare between survivors and non-survivors.\")"
      ],
      "metadata": {
        "colab": {
          "base_uri": "https://localhost:8080/"
        },
        "id": "ljBF1mdTqXHu",
        "outputId": "03a5600c-292a-48ac-a0ff-d703f73e2630"
      },
      "execution_count": null,
      "outputs": [
        {
          "output_type": "stream",
          "name": "stdout",
          "text": [
            "\n",
            "T-test: Survived vs Not Survived\n",
            "T-statistic: 7.939191660871055, p-value: 6.120189341924198e-15\n",
            "There is a significant difference in Fare between survivors and non-survivors.\n"
          ]
        }
      ]
    },
    {
      "cell_type": "code",
      "source": [
        "# -----------------------------\n",
        "# Correlation and Similarity Analysis\n",
        "# -----------------------------\n",
        "\n",
        "# Spearman's Rank Correlation: Measuring monotonic relationship between 'Fare' and 'Age'\n",
        "correlation, p_value_corr = stats.spearmanr(df['Fare'].dropna(), df['Age'].dropna())\n",
        "print(\"\\nSpearman's Rank Correlation: Fare vs Age\")\n",
        "print(f\"Correlation coefficient: {correlation}, p-value: {p_value_corr}\")"
      ],
      "metadata": {
        "colab": {
          "base_uri": "https://localhost:8080/"
        },
        "id": "-8G1OE4hqcWC",
        "outputId": "05e231dc-6fdc-4060-9f39-3f5019926f7c"
      },
      "execution_count": null,
      "outputs": [
        {
          "output_type": "stream",
          "name": "stdout",
          "text": [
            "\n",
            "Spearman's Rank Correlation: Fare vs Age\n",
            "Correlation coefficient: 0.12600552124010062, p-value: 0.00016260974540267112\n"
          ]
        }
      ]
    },
    {
      "cell_type": "code",
      "source": [
        "## YOUR PRIZE 🏆:\n",
        "# Comprehensive SciPy Reference: https://realpython.com/python-scipy-cluster-optimize/"
      ],
      "metadata": {
        "id": "juVsStLqkZxS"
      },
      "execution_count": null,
      "outputs": []
    },
    {
      "cell_type": "markdown",
      "source": [
        "# Apache Arrow"
      ],
      "metadata": {
        "id": "nsYiphyMXzFe"
      }
    },
    {
      "cell_type": "code",
      "source": [
        "import pyarrow as pa\n",
        "import pyarrow.parquet as pq"
      ],
      "metadata": {
        "id": "E-0PJHluXtkp"
      },
      "execution_count": null,
      "outputs": []
    },
    {
      "cell_type": "code",
      "source": [
        "# Convert the Pandas DataFrame to an Arrow Table (zero-copy conversion)\n",
        "arrow_table = pa.Table.from_pandas(df)\n",
        "print(\"\\nArrow Table Schema:\")\n",
        "print(\"==============================================\")\n",
        "print(arrow_table.schema)\n",
        "print(\"==============================================\")\n",
        "# Write the Arrow Table to a Parquet file (efficient columnar storage)\n",
        "pq.write_table(arrow_table, 'titanic.parquet')\n",
        "print(\"\\nData written to 'titanic.parquet'.\")\n",
        "print(\"==============================================\")\n",
        "\n",
        "# Read the Parquet file back into an Arrow Table\n",
        "arrow_table_read = pq.read_table('titanic.parquet')\n",
        "\n",
        "# Convert back to Pandas DataFrame to verify the content\n",
        "df_from_arrow = arrow_table_read.to_pandas()\n",
        "print(\"\\nData read from Parquet (first 5 rows):\")\n",
        "print(df_from_arrow.head())"
      ],
      "metadata": {
        "colab": {
          "base_uri": "https://localhost:8080/"
        },
        "id": "F2yr-90kX3xj",
        "outputId": "b3c357bc-8255-4ecd-9167-7595ecb4d226"
      },
      "execution_count": null,
      "outputs": [
        {
          "output_type": "stream",
          "name": "stdout",
          "text": [
            "\n",
            "Arrow Table Schema:\n",
            "==============================================\n",
            "PassengerId: int64\n",
            "Survived: int64\n",
            "Pclass: int64\n",
            "Name: string\n",
            "Age: double\n",
            "SibSp: int64\n",
            "Parch: int64\n",
            "Ticket: string\n",
            "Fare: double\n",
            "FamilySize: int64\n",
            "AgeGroup: dictionary<values=string, indices=int8, ordered=1>\n",
            "Sex_male: bool\n",
            "Embarked_Q: bool\n",
            "Embarked_S: bool\n",
            "DiscountedFare: double\n",
            "Fare_Normalized: double\n",
            "Fare_Log: double\n",
            "-- schema metadata --\n",
            "pandas: '{\"index_columns\": [{\"kind\": \"range\", \"name\": null, \"start\": 0, \"' + 2239\n",
            "==============================================\n",
            "\n",
            "Data written to 'titanic.parquet'.\n",
            "==============================================\n",
            "\n",
            "Data read from Parquet (first 5 rows):\n",
            "   PassengerId  Survived  Pclass  \\\n",
            "0            1         0       3   \n",
            "1            2         1       1   \n",
            "2            3         1       3   \n",
            "3            4         1       1   \n",
            "4            5         0       3   \n",
            "\n",
            "                                                Name   Age  SibSp  Parch  \\\n",
            "0                            Braund, Mr. Owen Harris  22.0      1      0   \n",
            "1  Cumings, Mrs. John Bradley (Florence Briggs Th...  38.0      1      0   \n",
            "2                             Heikkinen, Miss. Laina  26.0      0      0   \n",
            "3       Futrelle, Mrs. Jacques Heath (Lily May Peel)  35.0      1      0   \n",
            "4                           Allen, Mr. William Henry  35.0      0      0   \n",
            "\n",
            "             Ticket     Fare  FamilySize     AgeGroup  Sex_male  Embarked_Q  \\\n",
            "0         A/5 21171   7.2500           2  Young Adult      True       False   \n",
            "1          PC 17599  71.2833           2        Adult     False       False   \n",
            "2  STON/O2. 3101282   7.9250           1  Young Adult     False       False   \n",
            "3            113803  53.1000           2  Young Adult     False       False   \n",
            "4            373450   8.0500           1  Young Adult      True       False   \n",
            "\n",
            "   Embarked_S  DiscountedFare  Fare_Normalized  Fare_Log  \n",
            "0        True         6.52500         0.014151  2.110213  \n",
            "1       False        64.15497         0.139136  4.280593  \n",
            "2        True         7.13250         0.015469  2.188856  \n",
            "3        True        47.79000         0.103644  3.990834  \n",
            "4        True         7.24500         0.015713  2.202765  \n"
          ]
        }
      ]
    },
    {
      "cell_type": "code",
      "source": [
        "## YOUR PRIZE 🏆:\n",
        "# Comprehensive Arrow Reference: https://github.com/fbaptiste/python-blog/blob/main/2024/03%20-%20March/arrow_library.ipynb"
      ],
      "metadata": {
        "id": "Kya4CBBnkhF8"
      },
      "execution_count": null,
      "outputs": []
    }
  ]
}